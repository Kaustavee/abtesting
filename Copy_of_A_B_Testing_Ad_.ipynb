{
  "metadata": {
    "kernelspec": {
      "language": "python",
      "display_name": "Python 3",
      "name": "python3"
    },
    "language_info": {
      "name": "python",
      "version": "3.10.13",
      "mimetype": "text/x-python",
      "codemirror_mode": {
        "name": "ipython",
        "version": 3
      },
      "pygments_lexer": "ipython3",
      "nbconvert_exporter": "python",
      "file_extension": ".py"
    },
    "kaggle": {
      "accelerator": "none",
      "dataSources": [
        {
          "sourceId": 2724653,
          "sourceType": "datasetVersion",
          "datasetId": 1660669
        }
      ],
      "dockerImageVersionId": 30746,
      "isInternetEnabled": false,
      "language": "python",
      "sourceType": "notebook",
      "isGpuEnabled": false
    },
    "colab": {
      "provenance": [],
      "toc_visible": true,
      "include_colab_link": true
    }
  },
  "nbformat_minor": 0,
  "nbformat": 4,
  "cells": [
    {
      "cell_type": "markdown",
      "metadata": {
        "id": "view-in-github",
        "colab_type": "text"
      },
      "source": [
        "<a href=\"https://colab.research.google.com/github/Kaustavee/abtesting/blob/main/Copy_of_A_B_Testing_Ad_.ipynb\" target=\"_parent\"><img src=\"https://colab.research.google.com/assets/colab-badge.svg\" alt=\"Open In Colab\"/></a>"
      ]
    },
    {
      "source": [
        "\n",
        "# IMPORTANT: RUN THIS CELL IN ORDER TO IMPORT YOUR KAGGLE DATA SOURCES\n",
        "# TO THE CORRECT LOCATION (/kaggle/input) IN YOUR NOTEBOOK,\n",
        "# THEN FEEL FREE TO DELETE THIS CELL.\n",
        "# NOTE: THIS NOTEBOOK ENVIRONMENT DIFFERS FROM KAGGLE'S PYTHON\n",
        "# ENVIRONMENT SO THERE MAY BE MISSING LIBRARIES USED BY YOUR\n",
        "# NOTEBOOK.\n",
        "\n",
        "import os\n",
        "import sys\n",
        "from tempfile import NamedTemporaryFile\n",
        "from urllib.request import urlopen\n",
        "from urllib.parse import unquote, urlparse\n",
        "from urllib.error import HTTPError\n",
        "from zipfile import ZipFile\n",
        "import tarfile\n",
        "import shutil\n",
        "\n",
        "CHUNK_SIZE = 40960\n",
        "DATA_SOURCE_MAPPING = 'marketing-ab-testing:https%3A%2F%2Fstorage.googleapis.com%2Fkaggle-data-sets%2F1660669%2F2724653%2Fbundle%2Farchive.zip%3FX-Goog-Algorithm%3DGOOG4-RSA-SHA256%26X-Goog-Credential%3Dgcp-kaggle-com%2540kaggle-161607.iam.gserviceaccount.com%252F20240821%252Fauto%252Fstorage%252Fgoog4_request%26X-Goog-Date%3D20240821T012409Z%26X-Goog-Expires%3D259200%26X-Goog-SignedHeaders%3Dhost%26X-Goog-Signature%3D551cb7f6e8b4f513b3c5bf3e1154f34c4437fc4343344a72adb57d8326c27855a3866b7af9c09745b1b5b6d2258a95d83cdae73b3dfbb06f181d0106504647e9cf753fd907af9987cf1cec297674c50dff58c2cecb44f768a9ecfb9de57fad1db454acdddb5327e8fd6e49320e220d69aba7b1d93861027a2fed2acb57aebc8556f0933be8b4554d1b44e5d8b13d5d9f8b06a9ceb2fec3077cc516642dd0ae05ed096ab1a58ead88af0235774b4fe09b40ae34f6ee78934facd1d4caed6196cbb452f84546714092afd7b019472e2a743a8fe6370f51c3dd3ab5d5397effdc8f888863d3ff78a48b7b170f172e6128e528484ece18e4227cdf3b65dbb55ba244'\n",
        "\n",
        "KAGGLE_INPUT_PATH='/kaggle/input'\n",
        "KAGGLE_WORKING_PATH='/kaggle/working'\n",
        "KAGGLE_SYMLINK='kaggle'\n",
        "\n",
        "!umount /kaggle/input/ 2> /dev/null\n",
        "shutil.rmtree('/kaggle/input', ignore_errors=True)\n",
        "os.makedirs(KAGGLE_INPUT_PATH, 0o777, exist_ok=True)\n",
        "os.makedirs(KAGGLE_WORKING_PATH, 0o777, exist_ok=True)\n",
        "\n",
        "try:\n",
        "  os.symlink(KAGGLE_INPUT_PATH, os.path.join(\"..\", 'input'), target_is_directory=True)\n",
        "except FileExistsError:\n",
        "  pass\n",
        "try:\n",
        "  os.symlink(KAGGLE_WORKING_PATH, os.path.join(\"..\", 'working'), target_is_directory=True)\n",
        "except FileExistsError:\n",
        "  pass\n",
        "\n",
        "for data_source_mapping in DATA_SOURCE_MAPPING.split(','):\n",
        "    directory, download_url_encoded = data_source_mapping.split(':')\n",
        "    download_url = unquote(download_url_encoded)\n",
        "    filename = urlparse(download_url).path\n",
        "    destination_path = os.path.join(KAGGLE_INPUT_PATH, directory)\n",
        "    try:\n",
        "        with urlopen(download_url) as fileres, NamedTemporaryFile() as tfile:\n",
        "            total_length = fileres.headers['content-length']\n",
        "            print(f'Downloading {directory}, {total_length} bytes compressed')\n",
        "            dl = 0\n",
        "            data = fileres.read(CHUNK_SIZE)\n",
        "            while len(data) > 0:\n",
        "                dl += len(data)\n",
        "                tfile.write(data)\n",
        "                done = int(50 * dl / int(total_length))\n",
        "                sys.stdout.write(f\"\\r[{'=' * done}{' ' * (50-done)}] {dl} bytes downloaded\")\n",
        "                sys.stdout.flush()\n",
        "                data = fileres.read(CHUNK_SIZE)\n",
        "            if filename.endswith('.zip'):\n",
        "              with ZipFile(tfile) as zfile:\n",
        "                zfile.extractall(destination_path)\n",
        "            else:\n",
        "              with tarfile.open(tfile.name) as tarfile:\n",
        "                tarfile.extractall(destination_path)\n",
        "            print(f'\\nDownloaded and uncompressed: {directory}')\n",
        "    except HTTPError as e:\n",
        "        print(f'Failed to load (likely expired) {download_url} to path {destination_path}')\n",
        "        continue\n",
        "    except OSError as e:\n",
        "        print(f'Failed to load {download_url} to path {destination_path}')\n",
        "        continue\n",
        "\n",
        "print('Data source import complete.')\n"
      ],
      "metadata": {
        "id": "IwIoerjTh62X"
      },
      "cell_type": "code",
      "outputs": [],
      "execution_count": null
    },
    {
      "cell_type": "code",
      "source": [
        "# This Python 3 environment comes with many helpful analytics libraries installed\n",
        "# It is defined by the kaggle/python Docker image: https://github.com/kaggle/docker-python\n",
        "# For example, here's several helpful packages to load\n",
        "\n",
        "import numpy as np # linear algebra\n",
        "import pandas as pd # data processing, CSV file I/O (e.g. pd.read_csv)\n",
        "\n",
        "# Input data files are available in the read-only \"../input/\" directory\n",
        "# For example, running this (by clicking run or pressing Shift+Enter) will list all files under the input directory\n",
        "\n",
        "import os\n",
        "for dirname, _, filenames in os.walk('/kaggle/input'):\n",
        "    for filename in filenames:\n",
        "        print(os.path.join(dirname, filename))\n",
        "\n",
        "# You can write up to 20GB to the current directory (/kaggle/working/) that gets preserved as output when you create a version using \"Save & Run All\"\n",
        "# You can also write temporary files to /kaggle/temp/, but they won't be saved outside of the current session"
      ],
      "metadata": {
        "_uuid": "8f2839f25d086af736a60e9eeb907d3b93b6e0e5",
        "_cell_guid": "b1076dfc-b9ad-4769-8c92-a6c4dae69d19",
        "trusted": true,
        "id": "Q9QYEdtHh62c"
      },
      "execution_count": null,
      "outputs": []
    },
    {
      "cell_type": "code",
      "source": [
        "import numpy as np\n",
        "import pandas as pd\n",
        "import matplotlib.pyplot as plt\n",
        "import seaborn as sns\n",
        "import warnings\n",
        "warnings.filterwarnings(\"ignore\")"
      ],
      "metadata": {
        "execution": {
          "iopub.status.busy": "2024-08-20T04:50:42.936148Z",
          "iopub.execute_input": "2024-08-20T04:50:42.936563Z",
          "iopub.status.idle": "2024-08-20T04:50:42.943151Z",
          "shell.execute_reply.started": "2024-08-20T04:50:42.936529Z",
          "shell.execute_reply": "2024-08-20T04:50:42.941603Z"
        },
        "trusted": true,
        "id": "S_HEBK91h62d"
      },
      "execution_count": null,
      "outputs": []
    },
    {
      "cell_type": "code",
      "source": [
        "df = pd.read_csv(\"/kaggle/input/marketing-ab-testing/marketing_AB.csv\")"
      ],
      "metadata": {
        "execution": {
          "iopub.status.busy": "2024-08-20T04:51:21.50633Z",
          "iopub.execute_input": "2024-08-20T04:51:21.506754Z",
          "iopub.status.idle": "2024-08-20T04:51:22.329559Z",
          "shell.execute_reply.started": "2024-08-20T04:51:21.506719Z",
          "shell.execute_reply": "2024-08-20T04:51:22.328176Z"
        },
        "trusted": true,
        "id": "gtkXFWQVh62e",
        "outputId": "5c74ae22-e53e-48be-a475-98fc50df20cb",
        "colab": {
          "base_uri": "https://localhost:8080/",
          "height": 304
        }
      },
      "execution_count": null,
      "outputs": [
        {
          "output_type": "error",
          "ename": "FileNotFoundError",
          "evalue": "[Errno 2] No such file or directory: '/kaggle/input/marketing-ab-testing/marketing_AB.csv'",
          "traceback": [
            "\u001b[0;31m---------------------------------------------------------------------------\u001b[0m",
            "\u001b[0;31mFileNotFoundError\u001b[0m                         Traceback (most recent call last)",
            "\u001b[0;32m<ipython-input-3-a6b0ce24808f>\u001b[0m in \u001b[0;36m<cell line: 1>\u001b[0;34m()\u001b[0m\n\u001b[0;32m----> 1\u001b[0;31m \u001b[0mdf\u001b[0m \u001b[0;34m=\u001b[0m \u001b[0mpd\u001b[0m\u001b[0;34m.\u001b[0m\u001b[0mread_csv\u001b[0m\u001b[0;34m(\u001b[0m\u001b[0;34m\"/kaggle/input/marketing-ab-testing/marketing_AB.csv\"\u001b[0m\u001b[0;34m)\u001b[0m\u001b[0;34m\u001b[0m\u001b[0;34m\u001b[0m\u001b[0m\n\u001b[0m",
            "\u001b[0;32m/usr/local/lib/python3.10/dist-packages/pandas/io/parsers/readers.py\u001b[0m in \u001b[0;36mread_csv\u001b[0;34m(filepath_or_buffer, sep, delimiter, header, names, index_col, usecols, dtype, engine, converters, true_values, false_values, skipinitialspace, skiprows, skipfooter, nrows, na_values, keep_default_na, na_filter, verbose, skip_blank_lines, parse_dates, infer_datetime_format, keep_date_col, date_parser, date_format, dayfirst, cache_dates, iterator, chunksize, compression, thousands, decimal, lineterminator, quotechar, quoting, doublequote, escapechar, comment, encoding, encoding_errors, dialect, on_bad_lines, delim_whitespace, low_memory, memory_map, float_precision, storage_options, dtype_backend)\u001b[0m\n\u001b[1;32m    946\u001b[0m     \u001b[0mkwds\u001b[0m\u001b[0;34m.\u001b[0m\u001b[0mupdate\u001b[0m\u001b[0;34m(\u001b[0m\u001b[0mkwds_defaults\u001b[0m\u001b[0;34m)\u001b[0m\u001b[0;34m\u001b[0m\u001b[0;34m\u001b[0m\u001b[0m\n\u001b[1;32m    947\u001b[0m \u001b[0;34m\u001b[0m\u001b[0m\n\u001b[0;32m--> 948\u001b[0;31m     \u001b[0;32mreturn\u001b[0m \u001b[0m_read\u001b[0m\u001b[0;34m(\u001b[0m\u001b[0mfilepath_or_buffer\u001b[0m\u001b[0;34m,\u001b[0m \u001b[0mkwds\u001b[0m\u001b[0;34m)\u001b[0m\u001b[0;34m\u001b[0m\u001b[0;34m\u001b[0m\u001b[0m\n\u001b[0m\u001b[1;32m    949\u001b[0m \u001b[0;34m\u001b[0m\u001b[0m\n\u001b[1;32m    950\u001b[0m \u001b[0;34m\u001b[0m\u001b[0m\n",
            "\u001b[0;32m/usr/local/lib/python3.10/dist-packages/pandas/io/parsers/readers.py\u001b[0m in \u001b[0;36m_read\u001b[0;34m(filepath_or_buffer, kwds)\u001b[0m\n\u001b[1;32m    609\u001b[0m \u001b[0;34m\u001b[0m\u001b[0m\n\u001b[1;32m    610\u001b[0m     \u001b[0;31m# Create the parser.\u001b[0m\u001b[0;34m\u001b[0m\u001b[0;34m\u001b[0m\u001b[0m\n\u001b[0;32m--> 611\u001b[0;31m     \u001b[0mparser\u001b[0m \u001b[0;34m=\u001b[0m \u001b[0mTextFileReader\u001b[0m\u001b[0;34m(\u001b[0m\u001b[0mfilepath_or_buffer\u001b[0m\u001b[0;34m,\u001b[0m \u001b[0;34m**\u001b[0m\u001b[0mkwds\u001b[0m\u001b[0;34m)\u001b[0m\u001b[0;34m\u001b[0m\u001b[0;34m\u001b[0m\u001b[0m\n\u001b[0m\u001b[1;32m    612\u001b[0m \u001b[0;34m\u001b[0m\u001b[0m\n\u001b[1;32m    613\u001b[0m     \u001b[0;32mif\u001b[0m \u001b[0mchunksize\u001b[0m \u001b[0;32mor\u001b[0m \u001b[0miterator\u001b[0m\u001b[0;34m:\u001b[0m\u001b[0;34m\u001b[0m\u001b[0;34m\u001b[0m\u001b[0m\n",
            "\u001b[0;32m/usr/local/lib/python3.10/dist-packages/pandas/io/parsers/readers.py\u001b[0m in \u001b[0;36m__init__\u001b[0;34m(self, f, engine, **kwds)\u001b[0m\n\u001b[1;32m   1446\u001b[0m \u001b[0;34m\u001b[0m\u001b[0m\n\u001b[1;32m   1447\u001b[0m         \u001b[0mself\u001b[0m\u001b[0;34m.\u001b[0m\u001b[0mhandles\u001b[0m\u001b[0;34m:\u001b[0m \u001b[0mIOHandles\u001b[0m \u001b[0;34m|\u001b[0m \u001b[0;32mNone\u001b[0m \u001b[0;34m=\u001b[0m \u001b[0;32mNone\u001b[0m\u001b[0;34m\u001b[0m\u001b[0;34m\u001b[0m\u001b[0m\n\u001b[0;32m-> 1448\u001b[0;31m         \u001b[0mself\u001b[0m\u001b[0;34m.\u001b[0m\u001b[0m_engine\u001b[0m \u001b[0;34m=\u001b[0m \u001b[0mself\u001b[0m\u001b[0;34m.\u001b[0m\u001b[0m_make_engine\u001b[0m\u001b[0;34m(\u001b[0m\u001b[0mf\u001b[0m\u001b[0;34m,\u001b[0m \u001b[0mself\u001b[0m\u001b[0;34m.\u001b[0m\u001b[0mengine\u001b[0m\u001b[0;34m)\u001b[0m\u001b[0;34m\u001b[0m\u001b[0;34m\u001b[0m\u001b[0m\n\u001b[0m\u001b[1;32m   1449\u001b[0m \u001b[0;34m\u001b[0m\u001b[0m\n\u001b[1;32m   1450\u001b[0m     \u001b[0;32mdef\u001b[0m \u001b[0mclose\u001b[0m\u001b[0;34m(\u001b[0m\u001b[0mself\u001b[0m\u001b[0;34m)\u001b[0m \u001b[0;34m->\u001b[0m \u001b[0;32mNone\u001b[0m\u001b[0;34m:\u001b[0m\u001b[0;34m\u001b[0m\u001b[0;34m\u001b[0m\u001b[0m\n",
            "\u001b[0;32m/usr/local/lib/python3.10/dist-packages/pandas/io/parsers/readers.py\u001b[0m in \u001b[0;36m_make_engine\u001b[0;34m(self, f, engine)\u001b[0m\n\u001b[1;32m   1703\u001b[0m                 \u001b[0;32mif\u001b[0m \u001b[0;34m\"b\"\u001b[0m \u001b[0;32mnot\u001b[0m \u001b[0;32min\u001b[0m \u001b[0mmode\u001b[0m\u001b[0;34m:\u001b[0m\u001b[0;34m\u001b[0m\u001b[0;34m\u001b[0m\u001b[0m\n\u001b[1;32m   1704\u001b[0m                     \u001b[0mmode\u001b[0m \u001b[0;34m+=\u001b[0m \u001b[0;34m\"b\"\u001b[0m\u001b[0;34m\u001b[0m\u001b[0;34m\u001b[0m\u001b[0m\n\u001b[0;32m-> 1705\u001b[0;31m             self.handles = get_handle(\n\u001b[0m\u001b[1;32m   1706\u001b[0m                 \u001b[0mf\u001b[0m\u001b[0;34m,\u001b[0m\u001b[0;34m\u001b[0m\u001b[0;34m\u001b[0m\u001b[0m\n\u001b[1;32m   1707\u001b[0m                 \u001b[0mmode\u001b[0m\u001b[0;34m,\u001b[0m\u001b[0;34m\u001b[0m\u001b[0;34m\u001b[0m\u001b[0m\n",
            "\u001b[0;32m/usr/local/lib/python3.10/dist-packages/pandas/io/common.py\u001b[0m in \u001b[0;36mget_handle\u001b[0;34m(path_or_buf, mode, encoding, compression, memory_map, is_text, errors, storage_options)\u001b[0m\n\u001b[1;32m    861\u001b[0m         \u001b[0;32mif\u001b[0m \u001b[0mioargs\u001b[0m\u001b[0;34m.\u001b[0m\u001b[0mencoding\u001b[0m \u001b[0;32mand\u001b[0m \u001b[0;34m\"b\"\u001b[0m \u001b[0;32mnot\u001b[0m \u001b[0;32min\u001b[0m \u001b[0mioargs\u001b[0m\u001b[0;34m.\u001b[0m\u001b[0mmode\u001b[0m\u001b[0;34m:\u001b[0m\u001b[0;34m\u001b[0m\u001b[0;34m\u001b[0m\u001b[0m\n\u001b[1;32m    862\u001b[0m             \u001b[0;31m# Encoding\u001b[0m\u001b[0;34m\u001b[0m\u001b[0;34m\u001b[0m\u001b[0m\n\u001b[0;32m--> 863\u001b[0;31m             handle = open(\n\u001b[0m\u001b[1;32m    864\u001b[0m                 \u001b[0mhandle\u001b[0m\u001b[0;34m,\u001b[0m\u001b[0;34m\u001b[0m\u001b[0;34m\u001b[0m\u001b[0m\n\u001b[1;32m    865\u001b[0m                 \u001b[0mioargs\u001b[0m\u001b[0;34m.\u001b[0m\u001b[0mmode\u001b[0m\u001b[0;34m,\u001b[0m\u001b[0;34m\u001b[0m\u001b[0;34m\u001b[0m\u001b[0m\n",
            "\u001b[0;31mFileNotFoundError\u001b[0m: [Errno 2] No such file or directory: '/kaggle/input/marketing-ab-testing/marketing_AB.csv'"
          ]
        }
      ]
    },
    {
      "cell_type": "code",
      "source": [
        "df.head()  #initial observation of the dataset"
      ],
      "metadata": {
        "execution": {
          "iopub.status.busy": "2024-08-20T04:51:58.246237Z",
          "iopub.execute_input": "2024-08-20T04:51:58.246659Z",
          "iopub.status.idle": "2024-08-20T04:51:58.267472Z",
          "shell.execute_reply.started": "2024-08-20T04:51:58.246626Z",
          "shell.execute_reply": "2024-08-20T04:51:58.26618Z"
        },
        "trusted": true,
        "id": "Ig397fH7h62e"
      },
      "execution_count": null,
      "outputs": []
    },
    {
      "cell_type": "markdown",
      "source": [
        "# QUESTIONS TO BE SOLVED/ENQUIRED FOR A/B TESTING\n",
        "> The companies are interested in answering two questions:\n",
        "\n",
        "Would the campaign be successful?\n",
        "If the campaign was successful, how much of that success could be attributed to the ads?"
      ],
      "metadata": {
        "id": "eI1lcHdKh62f"
      }
    },
    {
      "cell_type": "markdown",
      "source": [
        "# DATA GIVEN :-\n",
        "> Index: Row index\n",
        "\n",
        "> user id: User ID (unique)\n",
        "> test group: If \"ad\" the person saw the advertisement, if \"psa\" they only saw the public service announcement\n",
        "\n",
        "> converted: If a person bought the product then True, else is False\n",
        "\n",
        "> total ads: Amount of ads seen by person\n",
        "\n",
        "> most ads day: Day that the person saw the biggest amount of ads\n",
        "\n",
        "> most ads hour: Hour of day that the person saw the biggest amount of ads"
      ],
      "metadata": {
        "id": "0rn7ov8Uh62h"
      }
    },
    {
      "cell_type": "code",
      "source": [
        "#user id is a primary key in the relation , therefore it has to be unique, checking for duplicates in the user id field.\n",
        "df.duplicated(subset = 'user id').sum()"
      ],
      "metadata": {
        "execution": {
          "iopub.status.busy": "2024-08-20T04:58:18.01771Z",
          "iopub.execute_input": "2024-08-20T04:58:18.01832Z",
          "iopub.status.idle": "2024-08-20T04:58:18.054184Z",
          "shell.execute_reply.started": "2024-08-20T04:58:18.018279Z",
          "shell.execute_reply": "2024-08-20T04:58:18.053007Z"
        },
        "trusted": true,
        "id": "oMwEtuiqh62i"
      },
      "execution_count": null,
      "outputs": []
    },
    {
      "cell_type": "code",
      "source": [
        "# unnamed and user id column are of no use in the given analysis, therefore drop any unnecessary column\n",
        "df.drop(['Unnamed: 0','user id'], axis = 1, inplace = True)"
      ],
      "metadata": {
        "execution": {
          "iopub.status.busy": "2024-08-20T05:01:12.63726Z",
          "iopub.execute_input": "2024-08-20T05:01:12.638043Z",
          "iopub.status.idle": "2024-08-20T05:01:12.668224Z",
          "shell.execute_reply.started": "2024-08-20T05:01:12.637975Z",
          "shell.execute_reply": "2024-08-20T05:01:12.666881Z"
        },
        "trusted": true,
        "id": "yjy9tqXBh62i"
      },
      "execution_count": null,
      "outputs": []
    },
    {
      "cell_type": "code",
      "source": [
        "df.columns"
      ],
      "metadata": {
        "execution": {
          "iopub.status.busy": "2024-08-20T05:01:24.476399Z",
          "iopub.execute_input": "2024-08-20T05:01:24.476796Z",
          "iopub.status.idle": "2024-08-20T05:01:24.4851Z",
          "shell.execute_reply.started": "2024-08-20T05:01:24.476767Z",
          "shell.execute_reply": "2024-08-20T05:01:24.483982Z"
        },
        "trusted": true,
        "id": "n2T6bvwUh62j"
      },
      "execution_count": null,
      "outputs": []
    },
    {
      "cell_type": "code",
      "source": [
        "#check if the categorical variables have appropriate number of levels\n",
        "df_cat  = df[['test group','converted','most ads day','most ads hour']]\n",
        "df_cat.nunique()"
      ],
      "metadata": {
        "execution": {
          "iopub.status.busy": "2024-08-20T05:08:12.616943Z",
          "iopub.execute_input": "2024-08-20T05:08:12.617355Z",
          "iopub.status.idle": "2024-08-20T05:08:12.755329Z",
          "shell.execute_reply.started": "2024-08-20T05:08:12.617323Z",
          "shell.execute_reply": "2024-08-20T05:08:12.754246Z"
        },
        "trusted": true,
        "id": "4aHvLlJmh62j"
      },
      "execution_count": null,
      "outputs": []
    },
    {
      "cell_type": "code",
      "source": [
        "#check if the categorical variables have appropriate levels\n",
        "for i in df_cat.columns:\n",
        "    print(i.upper(),df_cat[i].unique())"
      ],
      "metadata": {
        "execution": {
          "iopub.status.busy": "2024-08-20T05:10:28.895988Z",
          "iopub.execute_input": "2024-08-20T05:10:28.896421Z",
          "iopub.status.idle": "2024-08-20T05:10:29.013976Z",
          "shell.execute_reply.started": "2024-08-20T05:10:28.896389Z",
          "shell.execute_reply": "2024-08-20T05:10:29.012372Z"
        },
        "trusted": true,
        "id": "d9f2bkzlh62k"
      },
      "execution_count": null,
      "outputs": []
    },
    {
      "cell_type": "markdown",
      "source": [
        "# UNIVARIATE ANALYSIS"
      ],
      "metadata": {
        "id": "-rbfMCVRh62k"
      }
    },
    {
      "cell_type": "code",
      "source": [
        "variable = 'converted'\n",
        "plt.figure(figsize = (6,4))\n",
        "#counting plot\n",
        "plt.subplot(1,2,1)\n",
        "sns.countplot(x=variable,data=df_cat)\n",
        "plt.title(f'count plot = {variable}')\n",
        "\n",
        "#pie chart\n",
        "plt.subplot(1,2,2)\n",
        "counts = df_cat[variable].value_counts()\n",
        "plt.pie(counts, labels=counts.index, autopct='%0.2f%%')\n",
        "plt.title(f'pie chart = {variable}')\n",
        "\n",
        "#adjusting the layout\n",
        "plt.tight_layout()\n",
        "\n",
        "#show the plots\n",
        "plt.show()"
      ],
      "metadata": {
        "execution": {
          "iopub.status.busy": "2024-08-20T05:25:05.106428Z",
          "iopub.execute_input": "2024-08-20T05:25:05.106839Z",
          "iopub.status.idle": "2024-08-20T05:25:05.651852Z",
          "shell.execute_reply.started": "2024-08-20T05:25:05.106808Z",
          "shell.execute_reply": "2024-08-20T05:25:05.649116Z"
        },
        "trusted": true,
        "id": "9X0MHKnyh62k"
      },
      "execution_count": null,
      "outputs": []
    },
    {
      "cell_type": "code",
      "source": [
        "variable = 'test group'\n",
        "plt.figure(figsize = (6,4))\n",
        "#counting plot\n",
        "plt.subplot(1,2,1)\n",
        "sns.countplot(x=variable,data=df_cat)\n",
        "plt.title(f'count plot = {variable}')\n",
        "\n",
        "#pie chart\n",
        "plt.subplot(1,2,2)\n",
        "counts = df_cat[variable].value_counts()\n",
        "plt.pie(counts, labels=counts.index, autopct='%0.2f%%')\n",
        "plt.title(f'pie chart = {variable}')\n",
        "\n",
        "#adjusting the layout\n",
        "plt.tight_layout()\n",
        "\n",
        "#show the plots\n",
        "plt.show()"
      ],
      "metadata": {
        "execution": {
          "iopub.status.busy": "2024-08-20T05:26:24.489239Z",
          "iopub.execute_input": "2024-08-20T05:26:24.489638Z",
          "iopub.status.idle": "2024-08-20T05:26:25.554831Z",
          "shell.execute_reply.started": "2024-08-20T05:26:24.489606Z",
          "shell.execute_reply": "2024-08-20T05:26:25.553503Z"
        },
        "trusted": true,
        "id": "pqd3lM4Dh62k"
      },
      "execution_count": null,
      "outputs": []
    },
    {
      "cell_type": "code",
      "source": [
        "variable = 'most ads day'\n",
        "plt.figure(figsize = (6,4))\n",
        "#counting plot\n",
        "plt.subplot(1,2,1)\n",
        "sns.countplot(x=variable,data=df_cat,order = df_cat['most ads day'].value_counts().index)\n",
        "plt.title(f'count plot = {variable}')\n",
        "plt.xticks(rotation = 90)\n",
        "\n",
        "#pie chart\n",
        "plt.subplot(1,2,2)\n",
        "counts = df_cat[variable].value_counts()\n",
        "plt.pie(counts, labels=counts.index, autopct='%0.2f%%')\n",
        "plt.title(f'pie chart = {variable}')\n",
        "\n",
        "#adjusting the layout\n",
        "plt.tight_layout()\n",
        "\n",
        "#show plot\n",
        "plt.show()"
      ],
      "metadata": {
        "execution": {
          "iopub.status.busy": "2024-08-20T05:29:41.49771Z",
          "iopub.execute_input": "2024-08-20T05:29:41.498139Z",
          "iopub.status.idle": "2024-08-20T05:29:42.739669Z",
          "shell.execute_reply.started": "2024-08-20T05:29:41.49811Z",
          "shell.execute_reply": "2024-08-20T05:29:42.738236Z"
        },
        "trusted": true,
        "id": "phGZ5GXXh62l"
      },
      "execution_count": null,
      "outputs": []
    },
    {
      "cell_type": "code",
      "source": [
        "variable = 'most ads hour'\n",
        "plt.figure(figsize = (8,4))\n",
        "#counting plot\n",
        "plt.subplot(1,2,1)\n",
        "sns.countplot(x=variable,data=df_cat,order = df_cat['most ads hour'].value_counts().index)\n",
        "plt.title(f'count plot = {variable}')\n",
        "plt.xticks(rotation = 90)\n",
        "\n",
        "#pie chart\n",
        "plt.subplot(1,2,2)\n",
        "counts = df_cat[variable].value_counts()\n",
        "plt.pie(counts, labels=counts.index, autopct='%0.2f%%')\n",
        "plt.title(f'pie chart = {variable}')\n",
        "\n",
        "#adjusting the layout\n",
        "plt.tight_layout()\n",
        "\n",
        "plt.show()"
      ],
      "metadata": {
        "execution": {
          "iopub.status.busy": "2024-08-20T05:32:26.958043Z",
          "iopub.execute_input": "2024-08-20T05:32:26.959329Z",
          "iopub.status.idle": "2024-08-20T05:32:27.829089Z",
          "shell.execute_reply.started": "2024-08-20T05:32:26.959286Z",
          "shell.execute_reply": "2024-08-20T05:32:27.827563Z"
        },
        "trusted": true,
        "id": "D9kF1Hgnh62l"
      },
      "execution_count": null,
      "outputs": []
    },
    {
      "cell_type": "code",
      "source": [
        "variable = 'total ads'\n",
        "plt.figure(figsize = (6,4))\n",
        "#Histogram plot\n",
        "plt.subplot(1,2,1)\n",
        "sns.countplot(x=variable,data=df)\n",
        "plt.title(f'Histogram = {variable}')\n",
        "\n",
        "\n",
        "#box plot\n",
        "plt.subplot(1,2,2)\n",
        "sns.boxplot(y = variable, data = df)\n",
        "plt.title(f'Box plot = {variable}')\n",
        "\n",
        "#adjusting the layout\n",
        "plt.tight_layout()\n",
        "\n",
        "plt.show()"
      ],
      "metadata": {
        "execution": {
          "iopub.status.busy": "2024-08-20T05:39:03.866207Z",
          "iopub.execute_input": "2024-08-20T05:39:03.866587Z",
          "iopub.status.idle": "2024-08-20T05:39:12.150364Z",
          "shell.execute_reply.started": "2024-08-20T05:39:03.866557Z",
          "shell.execute_reply": "2024-08-20T05:39:12.148907Z"
        },
        "trusted": true,
        "id": "E-XoGZR1h62l"
      },
      "execution_count": null,
      "outputs": []
    },
    {
      "cell_type": "code",
      "source": [
        "df['total ads'].describe()"
      ],
      "metadata": {
        "execution": {
          "iopub.status.busy": "2024-08-20T05:45:15.536192Z",
          "iopub.execute_input": "2024-08-20T05:45:15.53742Z",
          "iopub.status.idle": "2024-08-20T05:45:15.573204Z",
          "shell.execute_reply.started": "2024-08-20T05:45:15.537378Z",
          "shell.execute_reply": "2024-08-20T05:45:15.572126Z"
        },
        "trusted": true,
        "id": "Nn9JnfBPh62m"
      },
      "execution_count": null,
      "outputs": []
    },
    {
      "cell_type": "code",
      "source": [
        "variable = 'total ads'\n",
        "plt.figure(figsize = (6,8))\n",
        "#Histogram plot\n",
        "plt.subplot(1,2,1)\n",
        "sns.countplot(y=variable,data=df[df['total ads']< 50])\n",
        "plt.title(f'Histogram = {variable}')\n",
        "#plt.xticks(rotation = 90)\n",
        "\n",
        "#box plot\n",
        "plt.subplot(1,2,2)\n",
        "sns.boxplot(y = variable, data = df[df['total ads']< 50])\n",
        "plt.title(f'Box plot = {variable}')\n",
        "\n",
        "#adjusting the layout\n",
        "plt.tight_layout()\n",
        "plt.show()\n"
      ],
      "metadata": {
        "execution": {
          "iopub.status.busy": "2024-08-20T05:53:15.056243Z",
          "iopub.execute_input": "2024-08-20T05:53:15.056711Z",
          "iopub.status.idle": "2024-08-20T05:53:16.283124Z",
          "shell.execute_reply.started": "2024-08-20T05:53:15.056676Z",
          "shell.execute_reply": "2024-08-20T05:53:16.281867Z"
        },
        "trusted": true,
        "id": "WhWSqNCNh62m"
      },
      "execution_count": null,
      "outputs": []
    },
    {
      "cell_type": "markdown",
      "source": [
        "# BIVARIATE ANALYSIS"
      ],
      "metadata": {
        "id": "nnhuzxmah62m"
      }
    },
    {
      "cell_type": "code",
      "source": [
        "ct_conversion_test_group = pd.crosstab(df['test group'], df['converted'], normalize = 'index')\n",
        "ct_conversion_test_group"
      ],
      "metadata": {
        "execution": {
          "iopub.status.busy": "2024-08-20T05:59:44.837025Z",
          "iopub.execute_input": "2024-08-20T05:59:44.837588Z",
          "iopub.status.idle": "2024-08-20T05:59:44.969779Z",
          "shell.execute_reply.started": "2024-08-20T05:59:44.837544Z",
          "shell.execute_reply": "2024-08-20T05:59:44.968412Z"
        },
        "trusted": true,
        "id": "qm0rybwkh62n"
      },
      "execution_count": null,
      "outputs": []
    },
    {
      "cell_type": "code",
      "source": [
        "ct_conversion_test_group.plot.bar(stacked = True)"
      ],
      "metadata": {
        "execution": {
          "iopub.status.busy": "2024-08-20T06:00:22.936143Z",
          "iopub.execute_input": "2024-08-20T06:00:22.936561Z",
          "iopub.status.idle": "2024-08-20T06:00:23.263836Z",
          "shell.execute_reply.started": "2024-08-20T06:00:22.936529Z",
          "shell.execute_reply": "2024-08-20T06:00:23.262463Z"
        },
        "trusted": true,
        "id": "5ERdtoo_h62o"
      },
      "execution_count": null,
      "outputs": []
    },
    {
      "cell_type": "code",
      "source": [
        "ct_conversion_day = pd.crosstab(df['most ads day'], df['converted'], normalize = 'index')\n",
        "print(ct_conversion_day.sort_values(by = True, ascending = False))\n",
        "ct_conversion_day.plot.bar(stacked =  True)"
      ],
      "metadata": {
        "execution": {
          "iopub.status.busy": "2024-08-20T06:04:02.985021Z",
          "iopub.execute_input": "2024-08-20T06:04:02.985433Z",
          "iopub.status.idle": "2024-08-20T06:04:03.496617Z",
          "shell.execute_reply.started": "2024-08-20T06:04:02.985401Z",
          "shell.execute_reply": "2024-08-20T06:04:03.495345Z"
        },
        "trusted": true,
        "id": "DgK3Labph62o"
      },
      "execution_count": null,
      "outputs": []
    },
    {
      "cell_type": "code",
      "source": [
        "ct_conversion_day = pd.crosstab(df['most ads hour'], df['converted'], normalize = 'index')\n",
        "print(ct_conversion_day.sort_values(by = True, ascending = False))\n",
        "ct_conversion_day.plot.bar(stacked =  True)"
      ],
      "metadata": {
        "execution": {
          "iopub.status.busy": "2024-08-20T06:04:49.93612Z",
          "iopub.execute_input": "2024-08-20T06:04:49.936524Z",
          "iopub.status.idle": "2024-08-20T06:04:51.301173Z",
          "shell.execute_reply.started": "2024-08-20T06:04:49.936492Z",
          "shell.execute_reply": "2024-08-20T06:04:51.29984Z"
        },
        "trusted": true,
        "id": "N017qHONh62p"
      },
      "execution_count": null,
      "outputs": []
    },
    {
      "cell_type": "code",
      "source": [
        "sns.boxplot(x = 'converted', y = 'total ads', data = df[df['total ads']<50])"
      ],
      "metadata": {
        "execution": {
          "iopub.status.busy": "2024-08-20T06:09:40.4452Z",
          "iopub.execute_input": "2024-08-20T06:09:40.445609Z",
          "iopub.status.idle": "2024-08-20T06:09:40.774785Z",
          "shell.execute_reply.started": "2024-08-20T06:09:40.445575Z",
          "shell.execute_reply": "2024-08-20T06:09:40.773713Z"
        },
        "trusted": true,
        "id": "7PL2VRqqh62p"
      },
      "execution_count": null,
      "outputs": []
    },
    {
      "cell_type": "markdown",
      "source": [
        "# STATISTICAL TESTS"
      ],
      "metadata": {
        "id": "3Wb144wUh62p"
      }
    },
    {
      "cell_type": "code",
      "source": [
        "from scipy.stats import chi2_contingency\n",
        "alpha = 0.05\n",
        "\n",
        "for variable in df_cat.columns:\n",
        "    if variable != 'converted':\n",
        "        contingency_table = pd.crosstab(df_cat[variable], df_cat['converted'])\n",
        "\n",
        "        # Perform chi-squared test\n",
        "        chi2, p, _, _ = chi2_contingency(contingency_table)\n",
        "\n",
        "        # Display the merits\n",
        "        print(f\"\\n chi squared test for {variable} vs. converted\")\n",
        "        print(f\"chi squared value : {chi2}\")\n",
        "        print(f\"p-value: {p}\")\n",
        "\n",
        "        # Check for significance\n",
        "        if p < alpha:\n",
        "            print(f\"the difference in conversion rates for {variable} is statistically significant\")\n",
        "        else:\n",
        "            print(f\"there is no significant difference in conversion across {variable}\")"
      ],
      "metadata": {
        "execution": {
          "iopub.status.busy": "2024-08-20T06:39:11.466582Z",
          "iopub.execute_input": "2024-08-20T06:39:11.466978Z",
          "iopub.status.idle": "2024-08-20T06:39:11.792076Z",
          "shell.execute_reply.started": "2024-08-20T06:39:11.466947Z",
          "shell.execute_reply": "2024-08-20T06:39:11.790807Z"
        },
        "trusted": true,
        "id": "ibQi0fqeh62p"
      },
      "execution_count": null,
      "outputs": []
    },
    {
      "cell_type": "code",
      "source": [
        "df_cat.columns"
      ],
      "metadata": {
        "execution": {
          "iopub.status.busy": "2024-08-20T06:40:28.676026Z",
          "iopub.execute_input": "2024-08-20T06:40:28.676411Z",
          "iopub.status.idle": "2024-08-20T06:40:28.684372Z",
          "shell.execute_reply.started": "2024-08-20T06:40:28.676382Z",
          "shell.execute_reply": "2024-08-20T06:40:28.682903Z"
        },
        "trusted": true,
        "id": "KGvivF9ph62q"
      },
      "execution_count": null,
      "outputs": []
    },
    {
      "cell_type": "code",
      "source": [
        "from scipy.stats import shapiro, levene, ttest_ind, mannwhitneyu\n",
        "shapiro_stat_true, shapiro_p_value_true = shapiro(df[df['converted'] == True]['total ads'])\n",
        "shapiro_stat_false, shapiro_p_value_false = shapiro(df[df['converted'] == False]['total ads'])\n",
        "print(f\"shapiro-wilk test for normality true: p-value = {shapiro_p_value_true}\")\n",
        "print(f\"shapiro-wilk test for normality false: p-value = {shapiro_p_value_false}\")\n",
        "\n",
        "levene_stat, levene_p_val = levene(df[df['converted']]['total ads'], df[~df['converted']]['total ads'])\n",
        "print(f\"levene test for equality of variances : p-value = {levene_p_val}\")\n",
        "\n"
      ],
      "metadata": {
        "execution": {
          "iopub.status.busy": "2024-08-20T06:51:15.989147Z",
          "iopub.execute_input": "2024-08-20T06:51:15.989553Z",
          "iopub.status.idle": "2024-08-20T06:51:16.135494Z",
          "shell.execute_reply.started": "2024-08-20T06:51:15.989522Z",
          "shell.execute_reply": "2024-08-20T06:51:16.134336Z"
        },
        "trusted": true,
        "id": "WOoVDfr1h62q"
      },
      "execution_count": null,
      "outputs": []
    },
    {
      "cell_type": "code",
      "source": [
        "#correcting the previous tests\n",
        "alpha = 0.05\n",
        "if shapiro_p_value_true > alpha and shapiro_p_value_false >alpha and levene_p_val > alpha:\n",
        "    t_st, t_p_val =ttest_ind(df[df['converted']]['total ads'], df[~df['converted']]['total ads'])\n",
        "    print(f\"independent two sample t-test : p-value ={t_p_val}\")\n",
        "else:\n",
        "    u_st, u_p_val = mannwhitneyu(df[df['converted']]['total ads'],df[~df['converted']]['total ads'])\n",
        "    print(f\"mannwhitney u test : p-value ={u_p_val}\")\n",
        "\n"
      ],
      "metadata": {
        "execution": {
          "iopub.status.busy": "2024-08-20T07:05:12.930941Z",
          "iopub.execute_input": "2024-08-20T07:05:12.931386Z",
          "iopub.status.idle": "2024-08-20T07:05:14.103894Z",
          "shell.execute_reply.started": "2024-08-20T07:05:12.931352Z",
          "shell.execute_reply": "2024-08-20T07:05:14.102465Z"
        },
        "trusted": true,
        "id": "RfaIaVich62q"
      },
      "execution_count": null,
      "outputs": []
    },
    {
      "cell_type": "markdown",
      "source": [
        "> **If the Mann-Whitney U test also shows a p-value of 0.0, it indicates a statistically significant difference between the medians of the two groups.\n",
        "\n",
        "In the context of the data, this means there is strong evidence suggesting that the median number of \"total ads\" for the \"converted\" group is significantly different from the median number of \"total ads\" for the \"not converted\" group.\n",
        "\n",
        "**"
      ],
      "metadata": {
        "id": "dyTjjouBh62q"
      }
    },
    {
      "cell_type": "markdown",
      "source": [
        "> # ** THE ADVERTISEMENTS WERE NOT SUCCESFULL IN REACHING OUT TO THE PEOPLE.**"
      ],
      "metadata": {
        "id": "-7vYSHE0h62q"
      }
    },
    {
      "cell_type": "code",
      "source": [],
      "metadata": {
        "id": "0iG2Qo4ch62r"
      },
      "execution_count": null,
      "outputs": []
    },
    {
      "cell_type": "markdown",
      "source": [],
      "metadata": {
        "id": "P5Xai-JVh62r"
      }
    }
  ]
}